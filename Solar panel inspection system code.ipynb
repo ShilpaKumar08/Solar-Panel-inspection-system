import tensorflow as tf
import os
import numpy as np
from tensorflow.keras.layers import Input,Flatten,Dense
from tensorflow.keras.models import Model
from tensorflow.keras.applications.vgg16 import VGG16
from tensorflow.keras.models import Sequential
from glob import glob
from keras.preprocessing import image
import matplotlib.pyplot as plt
base_dir='C://cmti'
folders=glob('C://cmti*') # it will search for related folder
print(len(folders))
IMAGE_SIZE=224
BATCH_SIZE=64
train_datagen=tf.keras.preprocessing.image.ImageDataGenerator(
    rescale=1./255,
    horizontal_flip=True,
    validation_split=0.1)

validation_datagen=tf.keras.preprocessing.image.ImageDataGenerator(
    rescale=1./255,
    validation_split=0.1
)
train_generator=train_datagen.flow_from_directory(
    base_dir,
    target_size=(IMAGE_SIZE,IMAGE_SIZE),
    batch_size=BATCH_SIZE,
    subset='training'
)
validation_generator=validation_datagen.flow_from_directory(
    base_dir,
    target_size=(IMAGE_SIZE,IMAGE_SIZE),
    batch_size=BATCH_SIZE,
    subset='validation'
    
)
IMAGE_SIZE=[224,224]
vgg=VGG16(input_shape=IMAGE_SIZE+[3],weights='imagenet',include_top=False)
vgg.output
for layer in vgg.layers:
    layer.trainable=False
x=Flatten()(vgg.output)
prediction=Dense(3,activation='softmax')(x)
model=Model(inputs=vgg.input,outputs=prediction)
model.compile(loss='categorical_crossentropy',optimizer='adam',metrics=['accuracy'])
epoch=30
history=model.fit(train_generator,
                 steps_per_epoch=len(train_generator),
                 epochs=epoch,
                 validation_data=validation_generator,
                 validation_steps=len(validation_generator)
                 )
model.evaluate(validation_generator)
model.predict(validation_generator)
import matplotlib.pyplot as plt
a=image.load_img('C://cell_image2/test/Good/good_img_018.jpg',target_size=(224,224))

img_pred=image.img_to_array(a)
img_pred=np.expand_dims(img_pred,axis=0)

result=model.predict(img_pred)

print(result)
if result[0][0]>(result[0][1] or result[0][2]):
    prediction='good'
    
elif result[0][1]>(result[0][0] or result[0][2]):
    prediction='micro line'
else :
    prediction='XY crack'
print(prediction)
plt.imshow(a)
plt.show()
from keras.preprocessing import image
import numpy as np
import matplotlib.pyplot as plt

a=image.load_img('C://cell_image/Microline Crack/microline_img_034.jpg',target_size=(224,224))

img_pred=image.img_to_array(a)
img_pred=np.expand_dims(img_pred,axis=0)

result=model.predict(img_pred)

print(result)
c=max(result[0])
if result[0][0]>(result[0][1] or result[0][2]):
    prediction='good'
    
elif (result[0][1])>(result[0][0] or result[0][2]):
    prediction='micro line'
    
else :
    prediction='XY crack'
print(prediction)
plt.imshow(a)
plt.show()
path="C://Users/Admin/OneDrive/Desktop/test_mix"
for i in os.listdir(path):
    impath=str(path+'//'+i)
    b=image.load_img(impath,target_size=(224,224))
    img_pred=image.img_to_array(b)
    img_pred=np.expand_dims(img_pred,axis=0)
    result=model.predict(img_pred)
    c=max(result[0])
    if result[0][0]==c:
        prediction='good'
        plt.imshow(b)
        print(prediction)
    
    elif result[0][1]==c:
        prediction='micro line'
        print(prediction)
        plt.imshow(b)
    else:
        prediction='XY crack'
        print(prediction)
        plt.imshow(b)
    plt.show()

